{
    "cells": [
        {
            "cell_type": "markdown",
            "metadata": {},
            "source": [
                "## Interacting with the Spotify API\n",
                "\n",
                "Spotify can be used as a data source for various data science projects. In this exercise, we will learn how to interact with the API of this social network. Spotipy is an open source Python library that allows high-level use of the Spotify API.\n",
                "\n",
                "### Step 1\n",
                "\n",
                "The first step is to create an application to be able to access Spotify API services. All the information can be found [here](https://developer.spotify.com/documentation/web-api).\n",
                "\n",
                "Once you have logged in using your Spotify account, you can create the application to access the credentials needed to consume the API. You will need to fill in the following fields:\n",
                "\n",
                "![Spotify create app](https://github.com/4GeeksAcademy/interacting-with-the-twitter-api-project-tutorial/blob/main/assets/spotify_1.PNG?raw=true)\n",
                "\n",
                "> NOTE: As we are not going to use this API from any other web application, leave the `Redirect URI` field as `http://localhost/`.\n",
                "\n",
                "Once you complete the form, you will have your application created. Next, in the `settings` section you can find your `Client ID` and `Client Secret`.\n",
                "\n",
                "### Step 2\n",
                "\n",
                "- Install all the requirements from the `requirements.txt` file or just the required library."
            ]
        },
        {
            "cell_type": "code",
            "execution_count": 11,
            "metadata": {},
            "outputs": [
                {
                    "name": "stdout",
                    "output_type": "stream",
                    "text": [
                        "Defaulting to user installation because normal site-packages is not writeable\n",
                        "Requirement already satisfied: spotipy in /home/vscode/.local/lib/python3.11/site-packages (2.23.0)\n",
                        "Requirement already satisfied: redis>=3.5.3 in /home/vscode/.local/lib/python3.11/site-packages (from spotipy) (5.0.2)\n",
                        "Requirement already satisfied: requests>=2.25.0 in /home/vscode/.local/lib/python3.11/site-packages (from spotipy) (2.27.1)\n",
                        "Requirement already satisfied: six>=1.15.0 in /home/vscode/.local/lib/python3.11/site-packages (from spotipy) (1.16.0)\n",
                        "Requirement already satisfied: urllib3>=1.26.0 in /home/vscode/.local/lib/python3.11/site-packages (from spotipy) (1.26.18)\n",
                        "Requirement already satisfied: async-timeout>=4.0.3 in /home/vscode/.local/lib/python3.11/site-packages (from redis>=3.5.3->spotipy) (4.0.3)\n",
                        "Requirement already satisfied: certifi>=2017.4.17 in /home/vscode/.local/lib/python3.11/site-packages (from requests>=2.25.0->spotipy) (2024.2.2)\n",
                        "Requirement already satisfied: charset-normalizer~=2.0.0 in /home/vscode/.local/lib/python3.11/site-packages (from requests>=2.25.0->spotipy) (2.0.12)\n",
                        "Requirement already satisfied: idna<4,>=2.5 in /home/vscode/.local/lib/python3.11/site-packages (from requests>=2.25.0->spotipy) (3.6)\n",
                        "\n",
                        "\u001b[1m[\u001b[0m\u001b[34;49mnotice\u001b[0m\u001b[1;39;49m]\u001b[0m\u001b[39;49m A new release of pip is available: \u001b[0m\u001b[31;49m23.1.2\u001b[0m\u001b[39;49m -> \u001b[0m\u001b[32;49m24.0\u001b[0m\n",
                        "\u001b[1m[\u001b[0m\u001b[34;49mnotice\u001b[0m\u001b[1;39;49m]\u001b[0m\u001b[39;49m To update, run: \u001b[0m\u001b[32;49mpip install --upgrade pip\u001b[0m\n",
                        "Defaulting to user installation because normal site-packages is not writeable\n",
                        "Requirement already satisfied: sqlalchemy==1.4.37 in /home/vscode/.local/lib/python3.11/site-packages (from -r requirements.txt (line 2)) (1.4.37)\n",
                        "Requirement already satisfied: pymysql==1.0.2 in /home/vscode/.local/lib/python3.11/site-packages (from -r requirements.txt (line 3)) (1.0.2)\n",
                        "Requirement already satisfied: pandas==1.4.2 in /home/vscode/.local/lib/python3.11/site-packages (from -r requirements.txt (line 4)) (1.4.2)\n",
                        "Requirement already satisfied: python-dotenv==0.20.0 in /home/vscode/.local/lib/python3.11/site-packages (from -r requirements.txt (line 5)) (0.20.0)\n",
                        "Requirement already satisfied: psycopg2-binary==2.9.3 in /home/vscode/.local/lib/python3.11/site-packages (from -r requirements.txt (line 6)) (2.9.3)\n",
                        "Requirement already satisfied: requests==2.27.1 in /home/vscode/.local/lib/python3.11/site-packages (from -r requirements.txt (line 7)) (2.27.1)\n",
                        "Requirement already satisfied: spotipy==2.23.0 in /home/vscode/.local/lib/python3.11/site-packages (from -r requirements.txt (line 8)) (2.23.0)\n",
                        "Requirement already satisfied: numpy>=1.18.5 in /home/vscode/.local/lib/python3.11/site-packages (from -r requirements.txt (line 10)) (1.26.4)\n",
                        "Requirement already satisfied: opencv-python>=4.1.2 in /home/vscode/.local/lib/python3.11/site-packages (from -r requirements.txt (line 11)) (4.9.0.80)\n",
                        "Requirement already satisfied: matplotlib>=3.2.2 in /home/vscode/.local/lib/python3.11/site-packages (from -r requirements.txt (line 12)) (3.8.3)\n",
                        "Requirement already satisfied: ipyleaflet>=0.14.0 in /home/vscode/.local/lib/python3.11/site-packages (from -r requirements.txt (line 13)) (0.18.2)\n",
                        "Requirement already satisfied: sympy>=1.10.1 in /home/vscode/.local/lib/python3.11/site-packages (from -r requirements.txt (line 14)) (1.12)\n",
                        "Requirement already satisfied: scikit-learn in /home/vscode/.local/lib/python3.11/site-packages (from -r requirements.txt (line 17)) (1.4.1.post1)\n",
                        "Requirement already satisfied: greenlet!=0.4.17 in /home/vscode/.local/lib/python3.11/site-packages (from sqlalchemy==1.4.37->-r requirements.txt (line 2)) (3.0.3)\n",
                        "Requirement already satisfied: python-dateutil>=2.8.1 in /home/vscode/.local/lib/python3.11/site-packages (from pandas==1.4.2->-r requirements.txt (line 4)) (2.9.0.post0)\n",
                        "Requirement already satisfied: pytz>=2020.1 in /home/vscode/.local/lib/python3.11/site-packages (from pandas==1.4.2->-r requirements.txt (line 4)) (2024.1)\n",
                        "Requirement already satisfied: urllib3<1.27,>=1.21.1 in /home/vscode/.local/lib/python3.11/site-packages (from requests==2.27.1->-r requirements.txt (line 7)) (1.26.18)\n",
                        "Requirement already satisfied: certifi>=2017.4.17 in /home/vscode/.local/lib/python3.11/site-packages (from requests==2.27.1->-r requirements.txt (line 7)) (2024.2.2)\n",
                        "Requirement already satisfied: charset-normalizer~=2.0.0 in /home/vscode/.local/lib/python3.11/site-packages (from requests==2.27.1->-r requirements.txt (line 7)) (2.0.12)\n",
                        "Requirement already satisfied: idna<4,>=2.5 in /home/vscode/.local/lib/python3.11/site-packages (from requests==2.27.1->-r requirements.txt (line 7)) (3.6)\n",
                        "Requirement already satisfied: redis>=3.5.3 in /home/vscode/.local/lib/python3.11/site-packages (from spotipy==2.23.0->-r requirements.txt (line 8)) (5.0.2)\n",
                        "Requirement already satisfied: six>=1.15.0 in /home/vscode/.local/lib/python3.11/site-packages (from spotipy==2.23.0->-r requirements.txt (line 8)) (1.16.0)\n",
                        "Requirement already satisfied: contourpy>=1.0.1 in /home/vscode/.local/lib/python3.11/site-packages (from matplotlib>=3.2.2->-r requirements.txt (line 12)) (1.2.0)\n",
                        "Requirement already satisfied: cycler>=0.10 in /home/vscode/.local/lib/python3.11/site-packages (from matplotlib>=3.2.2->-r requirements.txt (line 12)) (0.12.1)\n",
                        "Requirement already satisfied: fonttools>=4.22.0 in /home/vscode/.local/lib/python3.11/site-packages (from matplotlib>=3.2.2->-r requirements.txt (line 12)) (4.49.0)\n",
                        "Requirement already satisfied: kiwisolver>=1.3.1 in /home/vscode/.local/lib/python3.11/site-packages (from matplotlib>=3.2.2->-r requirements.txt (line 12)) (1.4.5)\n",
                        "Requirement already satisfied: packaging>=20.0 in /home/vscode/.local/lib/python3.11/site-packages (from matplotlib>=3.2.2->-r requirements.txt (line 12)) (23.2)\n",
                        "Requirement already satisfied: pillow>=8 in /home/vscode/.local/lib/python3.11/site-packages (from matplotlib>=3.2.2->-r requirements.txt (line 12)) (10.2.0)\n",
                        "Requirement already satisfied: pyparsing>=2.3.1 in /home/vscode/.local/lib/python3.11/site-packages (from matplotlib>=3.2.2->-r requirements.txt (line 12)) (3.1.2)\n",
                        "Requirement already satisfied: ipywidgets<9,>=7.6.0 in /home/vscode/.local/lib/python3.11/site-packages (from ipyleaflet>=0.14.0->-r requirements.txt (line 13)) (8.1.2)\n",
                        "Requirement already satisfied: traittypes<3,>=0.2.1 in /home/vscode/.local/lib/python3.11/site-packages (from ipyleaflet>=0.14.0->-r requirements.txt (line 13)) (0.2.1)\n",
                        "Requirement already satisfied: xyzservices>=2021.8.1 in /home/vscode/.local/lib/python3.11/site-packages (from ipyleaflet>=0.14.0->-r requirements.txt (line 13)) (2023.10.1)\n",
                        "Requirement already satisfied: branca>=0.5.0 in /home/vscode/.local/lib/python3.11/site-packages (from ipyleaflet>=0.14.0->-r requirements.txt (line 13)) (0.7.1)\n",
                        "Requirement already satisfied: mpmath>=0.19 in /home/vscode/.local/lib/python3.11/site-packages (from sympy>=1.10.1->-r requirements.txt (line 14)) (1.3.0)\n",
                        "Requirement already satisfied: scipy>=1.6.0 in /home/vscode/.local/lib/python3.11/site-packages (from scikit-learn->-r requirements.txt (line 17)) (1.12.0)\n",
                        "Requirement already satisfied: joblib>=1.2.0 in /home/vscode/.local/lib/python3.11/site-packages (from scikit-learn->-r requirements.txt (line 17)) (1.3.2)\n",
                        "Requirement already satisfied: threadpoolctl>=2.0.0 in /home/vscode/.local/lib/python3.11/site-packages (from scikit-learn->-r requirements.txt (line 17)) (3.3.0)\n",
                        "Requirement already satisfied: jinja2>=3 in /home/vscode/.local/lib/python3.11/site-packages (from branca>=0.5.0->ipyleaflet>=0.14.0->-r requirements.txt (line 13)) (3.1.3)\n",
                        "Requirement already satisfied: comm>=0.1.3 in /home/vscode/.local/lib/python3.11/site-packages (from ipywidgets<9,>=7.6.0->ipyleaflet>=0.14.0->-r requirements.txt (line 13)) (0.2.1)\n",
                        "Requirement already satisfied: ipython>=6.1.0 in /home/vscode/.local/lib/python3.11/site-packages (from ipywidgets<9,>=7.6.0->ipyleaflet>=0.14.0->-r requirements.txt (line 13)) (8.22.2)\n",
                        "Requirement already satisfied: traitlets>=4.3.1 in /home/vscode/.local/lib/python3.11/site-packages (from ipywidgets<9,>=7.6.0->ipyleaflet>=0.14.0->-r requirements.txt (line 13)) (5.14.1)\n",
                        "Requirement already satisfied: widgetsnbextension~=4.0.10 in /home/vscode/.local/lib/python3.11/site-packages (from ipywidgets<9,>=7.6.0->ipyleaflet>=0.14.0->-r requirements.txt (line 13)) (4.0.10)\n",
                        "Requirement already satisfied: jupyterlab-widgets~=3.0.10 in /home/vscode/.local/lib/python3.11/site-packages (from ipywidgets<9,>=7.6.0->ipyleaflet>=0.14.0->-r requirements.txt (line 13)) (3.0.10)\n",
                        "Requirement already satisfied: async-timeout>=4.0.3 in /home/vscode/.local/lib/python3.11/site-packages (from redis>=3.5.3->spotipy==2.23.0->-r requirements.txt (line 8)) (4.0.3)\n",
                        "Requirement already satisfied: decorator in /home/vscode/.local/lib/python3.11/site-packages (from ipython>=6.1.0->ipywidgets<9,>=7.6.0->ipyleaflet>=0.14.0->-r requirements.txt (line 13)) (5.1.1)\n",
                        "Requirement already satisfied: jedi>=0.16 in /home/vscode/.local/lib/python3.11/site-packages (from ipython>=6.1.0->ipywidgets<9,>=7.6.0->ipyleaflet>=0.14.0->-r requirements.txt (line 13)) (0.19.1)\n",
                        "Requirement already satisfied: matplotlib-inline in /home/vscode/.local/lib/python3.11/site-packages (from ipython>=6.1.0->ipywidgets<9,>=7.6.0->ipyleaflet>=0.14.0->-r requirements.txt (line 13)) (0.1.6)\n",
                        "Requirement already satisfied: prompt-toolkit<3.1.0,>=3.0.41 in /home/vscode/.local/lib/python3.11/site-packages (from ipython>=6.1.0->ipywidgets<9,>=7.6.0->ipyleaflet>=0.14.0->-r requirements.txt (line 13)) (3.0.43)\n",
                        "Requirement already satisfied: pygments>=2.4.0 in /home/vscode/.local/lib/python3.11/site-packages (from ipython>=6.1.0->ipywidgets<9,>=7.6.0->ipyleaflet>=0.14.0->-r requirements.txt (line 13)) (2.17.2)\n",
                        "Requirement already satisfied: stack-data in /home/vscode/.local/lib/python3.11/site-packages (from ipython>=6.1.0->ipywidgets<9,>=7.6.0->ipyleaflet>=0.14.0->-r requirements.txt (line 13)) (0.6.3)\n",
                        "Requirement already satisfied: pexpect>4.3 in /home/vscode/.local/lib/python3.11/site-packages (from ipython>=6.1.0->ipywidgets<9,>=7.6.0->ipyleaflet>=0.14.0->-r requirements.txt (line 13)) (4.9.0)\n",
                        "Requirement already satisfied: MarkupSafe>=2.0 in /home/vscode/.local/lib/python3.11/site-packages (from jinja2>=3->branca>=0.5.0->ipyleaflet>=0.14.0->-r requirements.txt (line 13)) (2.1.5)\n",
                        "Requirement already satisfied: parso<0.9.0,>=0.8.3 in /home/vscode/.local/lib/python3.11/site-packages (from jedi>=0.16->ipython>=6.1.0->ipywidgets<9,>=7.6.0->ipyleaflet>=0.14.0->-r requirements.txt (line 13)) (0.8.3)\n",
                        "Requirement already satisfied: ptyprocess>=0.5 in /home/vscode/.local/lib/python3.11/site-packages (from pexpect>4.3->ipython>=6.1.0->ipywidgets<9,>=7.6.0->ipyleaflet>=0.14.0->-r requirements.txt (line 13)) (0.7.0)\n",
                        "Requirement already satisfied: wcwidth in /home/vscode/.local/lib/python3.11/site-packages (from prompt-toolkit<3.1.0,>=3.0.41->ipython>=6.1.0->ipywidgets<9,>=7.6.0->ipyleaflet>=0.14.0->-r requirements.txt (line 13)) (0.2.13)\n",
                        "Requirement already satisfied: executing>=1.2.0 in /home/vscode/.local/lib/python3.11/site-packages (from stack-data->ipython>=6.1.0->ipywidgets<9,>=7.6.0->ipyleaflet>=0.14.0->-r requirements.txt (line 13)) (2.0.1)\n",
                        "Requirement already satisfied: asttokens>=2.1.0 in /home/vscode/.local/lib/python3.11/site-packages (from stack-data->ipython>=6.1.0->ipywidgets<9,>=7.6.0->ipyleaflet>=0.14.0->-r requirements.txt (line 13)) (2.4.1)\n",
                        "Requirement already satisfied: pure-eval in /home/vscode/.local/lib/python3.11/site-packages (from stack-data->ipython>=6.1.0->ipywidgets<9,>=7.6.0->ipyleaflet>=0.14.0->-r requirements.txt (line 13)) (0.2.2)\n",
                        "\n",
                        "\u001b[1m[\u001b[0m\u001b[34;49mnotice\u001b[0m\u001b[1;39;49m]\u001b[0m\u001b[39;49m A new release of pip is available: \u001b[0m\u001b[31;49m23.1.2\u001b[0m\u001b[39;49m -> \u001b[0m\u001b[32;49m24.0\u001b[0m\n",
                        "\u001b[1m[\u001b[0m\u001b[34;49mnotice\u001b[0m\u001b[1;39;49m]\u001b[0m\u001b[39;49m To update, run: \u001b[0m\u001b[32;49mpip install --upgrade pip\u001b[0m\n"
                    ]
                }
            ],
            "source": [
                "! pip install spotipy\n",
                "! pip install -r ../requirements.txt"
            ]
        },
        {
            "cell_type": "markdown",
            "metadata": {},
            "source": [
                "### Step 3\n",
                "\n",
                "- Create a file `.env` on the root folder of the project.\n",
                "- Insert both the `client ID` and `client secret` in the file, for example:\n",
                "\n",
                "```\n",
                "CLIENT_ID=\"AAAAAAAAAAAABBBBBBBBBBBBCCCCCCCCCCCCC111111222222\"\n",
                "CLIENT_SECRET=\"DDDDDDDDDDDDDEEEEEEEEEEEEEEEEFFFFFFFFFFFFFF333333344444\"\n",
                "```\n",
                "\n",
                "- Now we can insert this information in our Python program to start working with it"
            ]
        },
        {
            "cell_type": "code",
            "execution_count": 4,
            "metadata": {},
            "outputs": [],
            "source": [
                "import os\n",
                "from dotenv import load_dotenv\n",
                "load_dotenv()\n",
                "\n",
                "client_id = os.environ.get('CLIENT_ID')\n",
                "client_secret = os.environ.get('CLIENT_SECRET')"
            ]
        },
        {
            "cell_type": "markdown",
            "metadata": {},
            "source": [
                "### Step 4\n",
                "\n",
                "After downloading the library and loading the environment variables, we can start working by initiating the API connection:"
            ]
        },
        {
            "cell_type": "code",
            "execution_count": 5,
            "metadata": {},
            "outputs": [],
            "source": [
                "import spotipy\n",
                "from spotipy.oauth2 import SpotifyClientCredentials\n",
                "\n",
                "con = spotipy.Spotify(auth_manager = SpotifyClientCredentials(client_id = client_id,\n",
                "                                                              client_secret = client_secret))"
            ]
        },
        {
            "cell_type": "markdown",
            "metadata": {},
            "source": [
                "Now we can work and interact with the API to perform the queries we want to perform.\n",
                "\n",
                "### Step 5\n",
                "\n",
                "In this case I have chosen Bad Bunny. First I get his ID by searching for his Spotify page (https://open.spotify.com/artist/4q3ewBCX7sLwd24euuV69X). The artist ID are the characters that follow the last forward slash, `\"4q3ewBCX7sLwd24euuV69X\"`. Now, I perform the search for his top 10 songs."
            ]
        },
        {
            "cell_type": "code",
            "execution_count": 7,
            "metadata": {},
            "outputs": [
                {
                    "data": {
                        "text/plain": [
                            "[{'name': 'PERRO NEGRO', 'popularity': 94, 'duration_ms': 162767},\n",
                            " {'name': 'MONACO', 'popularity': 90, 'duration_ms': 267194},\n",
                            " {'name': 'un x100to', 'popularity': 85, 'duration_ms': 194563},\n",
                            " {'name': 'Me Porto Bonito', 'popularity': 88, 'duration_ms': 178567},\n",
                            " {'name': 'Ojitos Lindos', 'popularity': 86, 'duration_ms': 258298},\n",
                            " {'name': 'WHERE SHE GOES', 'popularity': 79, 'duration_ms': 231704},\n",
                            " {'name': 'LA CANCIÓN', 'popularity': 85, 'duration_ms': 242573},\n",
                            " {'name': 'Tití Me Preguntó', 'popularity': 85, 'duration_ms': 243716},\n",
                            " {'name': 'FINA', 'popularity': 85, 'duration_ms': 216327},\n",
                            " {'name': 'Efecto', 'popularity': 85, 'duration_ms': 213061}]"
                        ]
                    },
                    "execution_count": 7,
                    "metadata": {},
                    "output_type": "execute_result"
                }
            ],
            "source": [
                "artist_id = \"4q3ewBCX7sLwd24euuV69X\"\n",
                "\n",
                "# TODO: Use con.artist_top_tracks(artist_id) to get the artist's top tracks\n",
                "response = \n",
                "\n",
                "# Empty list to store our dictionaries for each track\n",
                "data = []\n",
                "\n",
                "if response:\n",
                "  # Get the `tracks` key from the response, `tracks` is a list of dictionaries where each dictionary has some data on each track\n",
                "  tracks = response[\"tracks\"]\n",
                "\n",
                "  # TODO: Iterate over each track and create a smaller dictionary to store the information we want\n",
                "  for track in tracks:\n",
                "    # TODO: Get name, popularity, and duration_ms for the track\n",
                "    name = \n",
                "    popularity = \n",
                "    duration_ms = \n",
                "\n",
                "    # Store this data in a smaller dictionary with the keys `name`, `popularity`, `duration_ms`\n",
                "    track_dict = \n",
                "\n",
                "    # TODO: Add the small dictionary to `data`, we will use `data` to create our dataframe\n",
                "\n",
                "\n",
                "# Let's print `data`` to verify\n",
                "# `data` is a list of dictionaries where each dictionary represents a Bad Bunny song\n",
                "data"
            ]
        },
        {
            "cell_type": "markdown",
            "metadata": {},
            "source": [
                "### Step 6\n",
                "\n",
                "Once we have modified the answer, we create the Pandas DataFrame from it:"
            ]
        },
        {
            "cell_type": "code",
            "execution_count": 8,
            "metadata": {},
            "outputs": [
                {
                    "name": "stdout",
                    "output_type": "stream",
                    "text": [
                        "          name  popularity  duration_ms\n",
                        "0  PERRO NEGRO          94       162767\n",
                        "1       MONACO          90       267194\n",
                        "2    un x100to          85       194563\n"
                    ]
                }
            ],
            "source": [
                "import pandas as pd\n",
                "\n",
                "# TODO: Create a DataFrame using pd.DataFrame and `data`\n",
                "tracks_df = \n",
                "\n",
                "print(tracks_df.head(3))"
            ]
        },
        {
            "cell_type": "markdown",
            "metadata": {},
            "source": [
                "### Step 7\n",
                "\n",
                "A scatter plot is a good alternative to determine visually and graphically whether two variables may or may not be related to each other:"
            ]
        },
        {
            "cell_type": "code",
            "execution_count": 9,
            "metadata": {},
            "outputs": [
                {
                    "name": "stdout",
                    "output_type": "stream",
                    "text": [
                        "Defaulting to user installation because normal site-packages is not writeable\n",
                        "Requirement already satisfied: seaborn in /home/vscode/.local/lib/python3.11/site-packages (0.13.2)\n",
                        "Requirement already satisfied: numpy!=1.24.0,>=1.20 in /home/vscode/.local/lib/python3.11/site-packages (from seaborn) (1.26.4)\n",
                        "Requirement already satisfied: pandas>=1.2 in /home/vscode/.local/lib/python3.11/site-packages (from seaborn) (1.4.2)\n",
                        "Requirement already satisfied: matplotlib!=3.6.1,>=3.4 in /home/vscode/.local/lib/python3.11/site-packages (from seaborn) (3.8.3)\n",
                        "Requirement already satisfied: contourpy>=1.0.1 in /home/vscode/.local/lib/python3.11/site-packages (from matplotlib!=3.6.1,>=3.4->seaborn) (1.2.0)\n",
                        "Requirement already satisfied: cycler>=0.10 in /home/vscode/.local/lib/python3.11/site-packages (from matplotlib!=3.6.1,>=3.4->seaborn) (0.12.1)\n",
                        "Requirement already satisfied: fonttools>=4.22.0 in /home/vscode/.local/lib/python3.11/site-packages (from matplotlib!=3.6.1,>=3.4->seaborn) (4.49.0)\n",
                        "Requirement already satisfied: kiwisolver>=1.3.1 in /home/vscode/.local/lib/python3.11/site-packages (from matplotlib!=3.6.1,>=3.4->seaborn) (1.4.5)\n",
                        "Requirement already satisfied: packaging>=20.0 in /home/vscode/.local/lib/python3.11/site-packages (from matplotlib!=3.6.1,>=3.4->seaborn) (23.2)\n",
                        "Requirement already satisfied: pillow>=8 in /home/vscode/.local/lib/python3.11/site-packages (from matplotlib!=3.6.1,>=3.4->seaborn) (10.2.0)\n",
                        "Requirement already satisfied: pyparsing>=2.3.1 in /home/vscode/.local/lib/python3.11/site-packages (from matplotlib!=3.6.1,>=3.4->seaborn) (3.1.2)\n",
                        "Requirement already satisfied: python-dateutil>=2.7 in /home/vscode/.local/lib/python3.11/site-packages (from matplotlib!=3.6.1,>=3.4->seaborn) (2.9.0.post0)\n",
                        "Requirement already satisfied: pytz>=2020.1 in /home/vscode/.local/lib/python3.11/site-packages (from pandas>=1.2->seaborn) (2024.1)\n",
                        "Requirement already satisfied: six>=1.5 in /home/vscode/.local/lib/python3.11/site-packages (from python-dateutil>=2.7->matplotlib!=3.6.1,>=3.4->seaborn) (1.16.0)\n",
                        "\n",
                        "\u001b[1m[\u001b[0m\u001b[34;49mnotice\u001b[0m\u001b[1;39;49m]\u001b[0m\u001b[39;49m A new release of pip is available: \u001b[0m\u001b[31;49m23.1.2\u001b[0m\u001b[39;49m -> \u001b[0m\u001b[32;49m24.0\u001b[0m\n",
                        "\u001b[1m[\u001b[0m\u001b[34;49mnotice\u001b[0m\u001b[1;39;49m]\u001b[0m\u001b[39;49m To update, run: \u001b[0m\u001b[32;49mpip install --upgrade pip\u001b[0m\n"
                    ]
                }
            ],
            "source": [
                "!pip install seaborn"
            ]
        },
        {
            "cell_type": "code",
            "execution_count": 10,
            "metadata": {},
            "outputs": [
                {
                    "data": {
                        "image/png": "[encoded data removed]",
                        "text/plain": [
                            "<Figure size 640x480 with 1 Axes>"
                        ]
                    },
                    "metadata": {},
                    "output_type": "display_data"
                }
            ],
            "source": [
                "import seaborn as sns\n",
                "\n",
                "# TODO: Make a scatterplot of `popularity` vs `duration_ms`\n",
                "scatter_plot = \n",
                "fig = \n",
                "# fig.savefig(\"scatter_plot.png\")\n",
                "\n",
                "fig.show()"
            ]
        },
        {
            "cell_type": "markdown",
            "metadata": {},
            "source": [
                "As can be seen, there is no direct relationship between the length of the song and its popularity."
            ]
        },
        {
            "cell_type": "markdown",
            "metadata": {},
            "source": [
                "## Further Exploration\n",
                "The Spotify API enables you to grab other information like:\n",
                "1. **Track Information**: Details about individual tracks, such as name, artists, album, duration, popularity, and audio features (e.g., danceability, energy, tempo).\n",
                "2. **Artist Information**: Details about artists, including their name, popularity, genres, top tracks, albums, and related artists.\n",
                "3. **Album Information**: Details about albums, such as name, artists, release date, total tracks, and images.\n",
                "4. **User Data**: Access to a user's playlists, saved tracks, followed artists, and more (requires user authentication).\n",
                "5. **Search**: Search for tracks, albums, artists, playlists, and shows based on various criteria, including keywords, genres, and popularity.\n",
                "6. **Audio Analysis**: Access detailed audio analysis for tracks, including features like tempo, key, time signature, and segments.\n",
                "7. **Recommendations**: Get personalized recommendations for tracks, artists, and playlists based on user preferences and listening history.\n",
                "\n",
                "Be sure to explore the docs: https://developer.spotify.com/documentation/web-api"
            ]
        }
    ],
    "metadata": {
        "kernelspec": {
            "display_name": "Python 3.8.13 64-bit ('3.8.13')",
            "language": "python",
            "name": "python3"
        },
        "language_info": {
            "codemirror_mode": {
                "name": "ipython",
                "version": 3
            },
            "file_extension": ".py",
            "mimetype": "text/x-python",
            "name": "python",
            "nbconvert_exporter": "python",
            "pygments_lexer": "ipython3",
            "version": "3.11.4"
        },
        "orig_nbformat": 4,
        "vscode": {
            "interpreter": {
                "hash": "110cc1dee26208153f2972f08a2ad52b6a56238dc66d48e87fb757ef2996db56"
            }
        }
    },
    "nbformat": 4,
    "nbformat_minor": 2
}
